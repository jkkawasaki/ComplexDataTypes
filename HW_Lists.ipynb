{
 "cells": [
  {
   "cell_type": "code",
   "execution_count": 1,
   "id": "43c61910",
   "metadata": {},
   "outputs": [
    {
     "name": "stdout",
     "output_type": "stream",
     "text": [
      "Assignment 3\n"
     ]
    }
   ],
   "source": [
    "\"\"\"BMI 6018 Fall 2022 \n",
    "\n",
    "Instructions: For this assignment, please return all answers as variables in your\n",
    ".py file. You will quickly note that you will need to find answers outside the\n",
    "class lectures. This is not an accident! You will need to become professionally\n",
    "comfortable with looking things up via the python docs and google. \n",
    "\n",
    "Ensure that all variables are labelled according to the example. IE the answer\n",
    "to problem 1 part c should be labelled one_c. While all questions are answerable\n",
    "with a single line of code, you are free to use helper variables so long as they\n",
    "are helpfully/informatively named. \n",
    "\n",
    "I should be able to open your .py file and run it without errors. I will **not** be \n",
    "debugging your code for you. If your file does not run, it will **not** be graded. \n",
    "If you are unsure if your file will run, open up a chpc terminal and test it there.\n",
    "\n",
    "For this assignment, please only use base python files types. That is: there \n",
    "should be no import calls in your file save my use of sys at the end.\n",
    "\n",
    "Example Problem\n",
    "\n",
    "0.a Create a list of strings\n",
    "0.b Using a str method, capitalize one of the elements in the list using a slice\n",
    "0.c Coerce one character of the list to display as a hex\n",
    "\n",
    "zero_a = ['first','second','third','fourth','fifth']\n",
    "zero_b = zero_a[1].upper()\n",
    "zero_c = hex(ord(zero_a[1][1]))\n",
    "\n",
    "#Problem 1: Lists, Sets and Coersion\n",
    "\n",
    "1.a Create a list of integers no fewer than 10 items from 0 to 9.\n",
    " .b Add 3 to the 5th indexed element\n",
    " .c Coerce all elements in the list to floats using list comprehension\n",
    " .d Coerce the list to a set\n",
    " .e Using a method, append int 10 to the set\n",
    " .f Using a method, pop an item from the set\n",
    " .g Using a length counting function, count the number of items in the set\n",
    " .h Check if the number of items in the set is the same as the \n",
    "    number of items in the list\n",
    " .i Coerce the set to a list and use the \"+\" operator combine the list to the list from 1.a\n",
    " .j Coerce 1.i to a set\n",
    " .k Count the number of elements in the 1.j\n",
    "\n",
    "\n",
    "\n",
    "Problem 2: Dictionary woes\n",
    "\n",
    "2.a Combine the three sample dictionaries (given below) into a nested dictionary (nested in programming means joined), named \n",
    "    two_a, ensure the key names are the same as the dictionary names.\n",
    " .b Using keys, retrieve the Dango's name from 2.a\n",
    " .c Using keys, update the value of Mochi's year to 2018. This should not be a variable\n",
    "    and should simply update 2.a.\n",
    " .d Manually create a dictionary that has a single level and contains each patient\n",
    "    as the key and the year as the value. Set Mochi's year to 2019.'\n",
    " .e Coerce the keys of 2.d into a list\n",
    " .f Coerce the values of 2.d into a list\n",
    " .g Use the zip function to combine 2.e and 2.f into a dictionary again\n",
    "\n",
    "\n",
    "two_patient_dictionary_kinoko = {\n",
    "  \"name\" : \"Kinoko\",\n",
    "  \"year\" : 2021\n",
    "}\n",
    "two_patient_dictionary_dango = {\n",
    "  \"name\" : \"Dango\",\n",
    "  \"year\" : 2019\n",
    "}\n",
    "two_patient_dictionary_mochi  = {\n",
    "  \"name\" : \"Mochi\",\n",
    "  \"year\" : 2020\n",
    "}\n",
    "\n",
    "\n",
    "\n",
    "Problem 3: Set combinations\n",
    "\n",
    "Given the predefined sets below and using set methods\n",
    "3.a Is set E a subset of set A\n",
    " .b Is set E a strict subset of set A\n",
    " .c Create a set that is the intersection of set A and set B\n",
    " .d Create a set that is the union of sets C, D and E\n",
    " .e add 9 to the set\n",
    " .f Using == compare this set to the list in one_a\n",
    " .g Explain why they are not the same. What would you need to change if you\n",
    "    wanted this to be True?\n",
    " \n",
    "\n",
    "three_setA = {1,2,3,4,5}\n",
    "three_setB = {2,3,4,5,6}\n",
    "three_setC = {3,5,7,9}\n",
    "three_setD = {2,4,6,8}\n",
    "three_setE = {1,2,3,4}\n",
    "\n",
    "\n",
    "\n",
    "Problem 4: Changing variable types\n",
    "\n",
    "For each step you will modify a variable, then append the type of the variable\n",
    "to a list. Do not recreate the list variable, it should be a running list of \n",
    "types.\n",
    "\n",
    "4.a Create a variable of type int with the value of 8\n",
    " .b Create an empty list \n",
    " .c Using type(), add the type of 4.a to this list\n",
    " .d Add 0.39 to 4.c\n",
    " .e append the type of 0.39 to the list\n",
    " .f exponentiate to the -10, ie: 4.d^-10,(hint: there might be an artihmetic operator to do so) round it to no \n",
    "    decimal places, and append to list.\n",
    " .g append the type to the list\n",
    " \n",
    " \n",
    "Problem 5: More variable type changes\n",
    "\n",
    "Continue from where you left off in Problem 4.\n",
    "\n",
    "5.a Manually create a dictionary where the values are items in the list from where we left in \n",
    "    problem 4, and the keys should be their index in the list. Print the dictionary.\n",
    " .b Add 300 and coerce it into a string\n",
    " .c append the type to the list\n",
    " .d slice the string up to the 2nd element\n",
    " .e append the type to the list\n",
    " .f use list comprehension to convert this into a new list of integers\n",
    " .g append the type to the list\n",
    " .h append the type of three_setA to the list\n",
    "\"\"\"\n",
    "\n",
    "#Start your assignment here\n",
    "print(\"Assignment 3\")\n",
    "\n"
   ]
  },
  {
   "cell_type": "code",
   "execution_count": 2,
   "id": "f25dcc78-1653-4630-8f00-77285da6c047",
   "metadata": {},
   "outputs": [
    {
     "name": "stdout",
     "output_type": "stream",
     "text": [
      "[0, 1, 2, 3, 4, 5, 6, 7, 8, 9]\n"
     ]
    }
   ],
   "source": [
    "#1.a Create a list of integers no fewer than 10 items from 0 to 9.\n",
    "my_list = [0, 1, 2, 3, 4, 5, 6, 7, 8, 9]\n",
    "one_a = my_list\n",
    "print(one_a)"
   ]
  },
  {
   "cell_type": "code",
   "execution_count": 3,
   "id": "418fe2f5-9449-4a16-8dce-f44547c358be",
   "metadata": {},
   "outputs": [
    {
     "name": "stdout",
     "output_type": "stream",
     "text": [
      "[0, 1, 2, 3, 7, 5, 6, 7, 8, 9]\n"
     ]
    }
   ],
   "source": [
    "# .b Add 3 to the 5th indexed element\n",
    "one_b = one_a\n",
    "one_b[4] += 3\n",
    "my_list = one_b\n",
    "print(one_b)"
   ]
  },
  {
   "cell_type": "code",
   "execution_count": 4,
   "id": "294b64b5-2e6e-484a-9b2a-6c598af784f3",
   "metadata": {},
   "outputs": [
    {
     "name": "stdout",
     "output_type": "stream",
     "text": [
      "[0.0, 1.0, 2.0, 3.0, 7.0, 5.0, 6.0, 7.0, 8.0, 9.0]\n"
     ]
    }
   ],
   "source": [
    "# .c Coerce all elements in the list to floats using list comprehension\n",
    "my_list = one_c = [float(x) for x in my_list]\n",
    "print(one_c)"
   ]
  },
  {
   "cell_type": "code",
   "execution_count": 5,
   "id": "57798ddf-06d3-40d1-8ed1-d62d08201948",
   "metadata": {},
   "outputs": [
    {
     "name": "stdout",
     "output_type": "stream",
     "text": [
      "{0.0, 1.0, 2.0, 3.0, 5.0, 6.0, 7.0, 8.0, 9.0}\n"
     ]
    }
   ],
   "source": [
    "# .d Coerce the list to a set\n",
    "my_set = one_d = set(my_list) #removes duplicate 7\n",
    "print(one_d)"
   ]
  },
  {
   "cell_type": "code",
   "execution_count": 6,
   "id": "c270c926-9184-4c81-839b-f0eb2617f13a",
   "metadata": {},
   "outputs": [
    {
     "name": "stdout",
     "output_type": "stream",
     "text": [
      "{0.0, 1.0, 2.0, 3.0, 5.0, 6.0, 7.0, 8.0, 9.0, 10}\n"
     ]
    }
   ],
   "source": [
    "# .e Using a method, append int 10 to the set\n",
    "one_d.add(10)\n",
    "my_set = one_e = one_d\n",
    "print(one_e)"
   ]
  },
  {
   "cell_type": "code",
   "execution_count": 7,
   "id": "9467fe6c-279c-4628-9e18-df83ba96d3ac",
   "metadata": {},
   "outputs": [
    {
     "name": "stdout",
     "output_type": "stream",
     "text": [
      "{1.0, 2.0, 3.0, 5.0, 6.0, 7.0, 8.0, 9.0, 10}\n"
     ]
    }
   ],
   "source": [
    "# .f Using a method, pop an item from the set\n",
    "my_set.pop()\n",
    "one_f = my_set\n",
    "print(one_f)"
   ]
  },
  {
   "cell_type": "code",
   "execution_count": 8,
   "id": "d96469ac-2494-475d-bb5a-e0f209abf9f5",
   "metadata": {},
   "outputs": [
    {
     "name": "stdout",
     "output_type": "stream",
     "text": [
      "9\n"
     ]
    }
   ],
   "source": [
    "# .g Using a length counting function, count the number of items in the set\n",
    "one_g = len(my_set)\n",
    "print(one_g)"
   ]
  },
  {
   "cell_type": "code",
   "execution_count": 9,
   "id": "9057caf6-f4b4-4fd0-9313-421b0869caf2",
   "metadata": {},
   "outputs": [
    {
     "name": "stdout",
     "output_type": "stream",
     "text": [
      "False\n"
     ]
    }
   ],
   "source": [
    "# .h Check if the number of items in the set is the same as the number of items in the list\n",
    "list_length = len(my_list)\n",
    "set_length = len(my_set)\n",
    "one_h = list_length == set_length\n",
    "print(one_h)"
   ]
  },
  {
   "cell_type": "code",
   "execution_count": 10,
   "id": "d6b9a5c7-8667-411c-a864-2b6a25e7e8de",
   "metadata": {},
   "outputs": [
    {
     "name": "stdout",
     "output_type": "stream",
     "text": [
      "[1.0, 2.0, 3.0, 5.0, 6.0, 7.0, 8.0, 9.0, 10, 0, 1, 2, 3, 7, 5, 6, 7, 8, 9]\n"
     ]
    }
   ],
   "source": [
    "# .i Coerce the set to a list and use the \"+\" operator combine the list to the list from 1.a\n",
    "new_list = list(my_set)\n",
    "one_i = new_list = new_list + one_a\n",
    "print(one_i)"
   ]
  },
  {
   "cell_type": "code",
   "execution_count": 11,
   "id": "c78257e6-10a8-414f-b21b-af4f099a3a2e",
   "metadata": {},
   "outputs": [
    {
     "name": "stdout",
     "output_type": "stream",
     "text": [
      "{0, 1.0, 2.0, 3.0, 5.0, 6.0, 7.0, 8.0, 9.0, 10}\n"
     ]
    }
   ],
   "source": [
    "# .j Coerce 1.i to a set\n",
    "one_j = new_set = set(one_i)\n",
    "print(one_j)"
   ]
  },
  {
   "cell_type": "code",
   "execution_count": 12,
   "id": "d881a2a0-2dd3-4313-8c2b-3bf559089a03",
   "metadata": {},
   "outputs": [
    {
     "name": "stdout",
     "output_type": "stream",
     "text": [
      "10\n"
     ]
    }
   ],
   "source": [
    "# .k Count the number of elements in the 1.j\n",
    "one_k = len(one_j)\n",
    "print(one_k)"
   ]
  },
  {
   "cell_type": "code",
   "execution_count": 13,
   "id": "3231e4fd-025f-4ad6-af09-991fc9527bf9",
   "metadata": {},
   "outputs": [],
   "source": [
    "#Problem 2: Dictionary woes\n",
    "\n",
    "two_patient_dictionary_kinoko = {\n",
    "  \"name\" : \"Kinoko\",\n",
    "  \"year\" : 2021\n",
    "}\n",
    "two_patient_dictionary_dango = {\n",
    "  \"name\" : \"Dango\",\n",
    "  \"year\" : 2019\n",
    "}\n",
    "two_patient_dictionary_mochi  = {\n",
    "  \"name\" : \"Mochi\",\n",
    "  \"year\" : 2020\n",
    "}"
   ]
  },
  {
   "cell_type": "code",
   "execution_count": 14,
   "id": "d0fc06f5-7a60-4497-9ae7-e6237f36cc99",
   "metadata": {},
   "outputs": [
    {
     "name": "stdout",
     "output_type": "stream",
     "text": [
      "{'two_patient_dictionary_kinoko': {'name': 'Kinoko', 'year': 2021}, 'two_patient_dictionary_dango': {'name': 'Dango', 'year': 2019}, 'two_patient_dictionary_mochi': {'name': 'Mochi', 'year': 2020}}\n"
     ]
    }
   ],
   "source": [
    "#2.a Combine the three sample dictionaries (given above) into a nested dictionary (nested in programming means joined), named \n",
    "#    two_a, ensure the key names are the same as the dictionary names.\n",
    "two_a = {\n",
    "    \"two_patient_dictionary_kinoko\": two_patient_dictionary_kinoko,\n",
    "    \"two_patient_dictionary_dango\": two_patient_dictionary_dango,\n",
    "    \"two_patient_dictionary_mochi\": two_patient_dictionary_mochi\n",
    "}\n",
    "print(two_a)"
   ]
  },
  {
   "cell_type": "code",
   "execution_count": 15,
   "id": "47d19258-4f44-4edf-9daa-b80d22f6e7ef",
   "metadata": {},
   "outputs": [
    {
     "name": "stdout",
     "output_type": "stream",
     "text": [
      "Dango\n"
     ]
    }
   ],
   "source": [
    "# .b Using keys, retrieve the Dango's name from 2.a\n",
    "two_b = two_a[\"two_patient_dictionary_dango\"][\"name\"]\n",
    "print(two_b)"
   ]
  },
  {
   "cell_type": "code",
   "execution_count": 16,
   "id": "b247fd76-b78c-411c-9c42-f6da95203cda",
   "metadata": {},
   "outputs": [
    {
     "name": "stdout",
     "output_type": "stream",
     "text": [
      "{'two_patient_dictionary_kinoko': {'name': 'Kinoko', 'year': 2021}, 'two_patient_dictionary_dango': {'name': 'Dango', 'year': 2019}, 'two_patient_dictionary_mochi': {'name': 'Mochi', 'year': 2018}}\n"
     ]
    }
   ],
   "source": [
    "# .c Using keys, update the value of Mochi's year to 2018. This should not be a variable\n",
    "#    and should simply update 2.a.\n",
    "two_a[\"two_patient_dictionary_mochi\"][\"year\"] = 2018\n",
    "two_c = two_a\n",
    "print(two_c)"
   ]
  },
  {
   "cell_type": "code",
   "execution_count": 17,
   "id": "3a4f4d01-3e7b-4d0a-a519-f201dba4e4a4",
   "metadata": {},
   "outputs": [
    {
     "name": "stdout",
     "output_type": "stream",
     "text": [
      "{'Kinoko': 2021, 'Dango': 2019, 'Mochi': 2019}\n"
     ]
    }
   ],
   "source": [
    "# .d Manually create a dictionary that has a single level and contains each patient\n",
    "#    as the key and the year as the value. Set Mochi's year to 2019.'\n",
    "two_d = {\n",
    "    \"Kinoko\" : 2021,\n",
    "    \"Dango\" : 2019,\n",
    "    \"Mochi\" : 2019\n",
    "}\n",
    "print(two_d)"
   ]
  },
  {
   "cell_type": "code",
   "execution_count": 18,
   "id": "a41469e6-1208-4144-aad4-e687518c8635",
   "metadata": {},
   "outputs": [
    {
     "name": "stdout",
     "output_type": "stream",
     "text": [
      "['Kinoko', 'Dango', 'Mochi']\n"
     ]
    }
   ],
   "source": [
    "# .e Coerce the keys of 2.d into a list\n",
    "two_e = list(two_d.keys())\n",
    "print(two_e)"
   ]
  },
  {
   "cell_type": "code",
   "execution_count": 19,
   "id": "157a5a90-b93b-4c9e-bcf4-dc7b6563ee36",
   "metadata": {},
   "outputs": [
    {
     "name": "stdout",
     "output_type": "stream",
     "text": [
      "[2021, 2019, 2019]\n"
     ]
    }
   ],
   "source": [
    "# .f Coerce the values of 2.d into a list\n",
    "two_f = list(two_d.values())\n",
    "print(two_f)"
   ]
  },
  {
   "cell_type": "code",
   "execution_count": 20,
   "id": "8faebaa4-bfe3-45c9-999b-9c27f146606d",
   "metadata": {},
   "outputs": [
    {
     "name": "stdout",
     "output_type": "stream",
     "text": [
      "{'Kinoko': 2021, 'Dango': 2019, 'Mochi': 2019}\n"
     ]
    }
   ],
   "source": [
    "# .g Use the zip function to combine 2.e and 2.f into a dictionary again\n",
    "two_g = dict(zip(two_e, two_f))\n",
    "print(two_g)"
   ]
  },
  {
   "cell_type": "code",
   "execution_count": 21,
   "id": "609ab9a6-406c-4f97-a7e2-2c414debad4a",
   "metadata": {},
   "outputs": [],
   "source": [
    "#Problem 3: Set combinations\n",
    "#Given the predefined sets below and using set methods\n",
    "three_setA = {1,2,3,4,5}\n",
    "three_setB = {2,3,4,5,6}\n",
    "three_setC = {3,5,7,9}\n",
    "three_setD = {2,4,6,8}\n",
    "three_setE = {1,2,3,4}"
   ]
  },
  {
   "cell_type": "code",
   "execution_count": 22,
   "id": "1ec16f98-6f26-4ec4-ad56-8b2edc8e01cf",
   "metadata": {},
   "outputs": [
    {
     "name": "stdout",
     "output_type": "stream",
     "text": [
      "True\n"
     ]
    }
   ],
   "source": [
    "#3.a Is set E a subset of set A\n",
    "if three_setE.issubset(three_setA):\n",
    "    three_a = True #three_setA contains three_setE\n",
    "else:\n",
    "    three_a = False\n",
    "print(three_a)"
   ]
  },
  {
   "cell_type": "code",
   "execution_count": 23,
   "id": "72e37390-34dc-4807-aa48-3870f8a9ff11",
   "metadata": {},
   "outputs": [
    {
     "name": "stdout",
     "output_type": "stream",
     "text": [
      "True\n"
     ]
    }
   ],
   "source": [
    "#.b Is set E a strict subset of set A\n",
    "if three_setE.issubset(three_setA) and three_setE != three_setA:\n",
    "    three_b = True\n",
    "else:\n",
    "    three_b = False\n",
    "print(three_b)"
   ]
  },
  {
   "cell_type": "code",
   "execution_count": 24,
   "id": "4f999aa5-5615-4669-a77c-2082cb31587b",
   "metadata": {},
   "outputs": [
    {
     "name": "stdout",
     "output_type": "stream",
     "text": [
      "{2, 3, 4, 5}\n"
     ]
    }
   ],
   "source": [
    "#.c Create a set that is the intersection of set A and set B\n",
    "three_c = three_setA.intersection(three_setB)\n",
    "print(three_c)"
   ]
  },
  {
   "cell_type": "code",
   "execution_count": 25,
   "id": "1f8f76f7-e84d-4333-87d8-e2597f0721f5",
   "metadata": {},
   "outputs": [
    {
     "name": "stdout",
     "output_type": "stream",
     "text": [
      "{1, 2, 3, 4, 5, 6, 7, 8, 9}\n"
     ]
    }
   ],
   "source": [
    "#.d Create a set that is the union of sets C, D and E\n",
    "three_d = three_setC.union(three_setD, three_setE)\n",
    "print(three_d)"
   ]
  },
  {
   "cell_type": "code",
   "execution_count": 26,
   "id": "446b50a8-cb82-4aaa-b8d0-7063a3c12679",
   "metadata": {},
   "outputs": [
    {
     "name": "stdout",
     "output_type": "stream",
     "text": [
      "{1, 2, 3, 4, 5, 6, 7, 8, 9}\n"
     ]
    }
   ],
   "source": [
    "#.e add 9 to the set\n",
    "three_d.add(9) #Doesn't add because it's a duplicate value\n",
    "three_e = three_d\n",
    "print(three_e)"
   ]
  },
  {
   "cell_type": "code",
   "execution_count": 27,
   "id": "6a81c05c-d244-4000-85ef-44b5b1fba6b2",
   "metadata": {},
   "outputs": [
    {
     "name": "stdout",
     "output_type": "stream",
     "text": [
      "False\n"
     ]
    }
   ],
   "source": [
    "#.f Using == compare this set to the list in one_a\n",
    "three_f = one_a == three_e\n",
    "print(three_f)"
   ]
  },
  {
   "cell_type": "code",
   "execution_count": 28,
   "id": "f3454951-31f1-4977-af20-664754a9a852",
   "metadata": {},
   "outputs": [
    {
     "name": "stdout",
     "output_type": "stream",
     "text": [
      "[0, 1, 2, 3, 4, 5, 6, 7, 8, 9]\n",
      "{1, 2, 3, 4, 5, 6, 7, 8, 9}\n",
      "one_a has a 0 and is a list. In order to change this to be True, you would have to remove 0 and change one_a to a set. This could be achieved by:\n",
      "\tone_a.remove(0)\n",
      "\tone_a = set(one_a)\n"
     ]
    }
   ],
   "source": [
    "# .g Explain why they are not the same. What would you need to change if you\n",
    "#    wanted this to be True?\n",
    "my_list = [0, 1, 2, 3, 4, 5, 6, 7, 8, 9]\n",
    "one_a = my_list\n",
    "print(one_a)\n",
    "print(three_e)\n",
    "three_g = \"one_a has a 0 and is a list. In order to change this to be True, you would have to remove 0 and change one_a to a set. This could be achieved by:\\n\"\\\n",
    "        \"\\tone_a.remove(0)\\n\"\\\n",
    "        \"\\tone_a = set(one_a)\"\n",
    "print(three_g)"
   ]
  },
  {
   "cell_type": "code",
   "execution_count": 29,
   "id": "8766420b-0cd1-4232-a640-1dd4049e4fe9",
   "metadata": {},
   "outputs": [],
   "source": [
    "#Problem 4: Changing variable types\n",
    "\n",
    "#For each step you will modify a variable, then append the type of the variable\n",
    "#to a list. Do not recreate the list variable, it should be a running list of \n",
    "#types."
   ]
  },
  {
   "cell_type": "code",
   "execution_count": 30,
   "id": "8415cddd-6ed3-40a8-842c-df8d93accd3f",
   "metadata": {},
   "outputs": [
    {
     "name": "stdout",
     "output_type": "stream",
     "text": [
      "8\n"
     ]
    }
   ],
   "source": [
    "#4.a Create a variable of type int with the value of 8\n",
    "my_variable = 8\n",
    "four_a = my_variable\n",
    "print(four_a)"
   ]
  },
  {
   "cell_type": "code",
   "execution_count": 31,
   "id": "3264be53-1907-4642-8d30-f79fa37dafee",
   "metadata": {},
   "outputs": [
    {
     "name": "stdout",
     "output_type": "stream",
     "text": [
      "[]\n"
     ]
    }
   ],
   "source": [
    "# .b Create an empty list\n",
    "my_list = four_b = []\n",
    "print(four_b)"
   ]
  },
  {
   "cell_type": "code",
   "execution_count": 32,
   "id": "77f8d5fd-f8a3-47ff-82e4-510fa507f45b",
   "metadata": {},
   "outputs": [
    {
     "name": "stdout",
     "output_type": "stream",
     "text": [
      "[<class 'int'>]\n"
     ]
    }
   ],
   "source": [
    "# .c Using type(), add the type of 4.a to this list\n",
    "my_list.append(type(four_a))\n",
    "four_c = my_list\n",
    "print(four_c)"
   ]
  },
  {
   "cell_type": "code",
   "execution_count": 33,
   "id": "e6a045c5-e371-4f40-ba46-aff357b90798",
   "metadata": {},
   "outputs": [
    {
     "name": "stdout",
     "output_type": "stream",
     "text": [
      "8.39\n"
     ]
    }
   ],
   "source": [
    "# .d Add 0.39 to 4.c\n",
    "my_variable += 0.39\n",
    "four_d = my_variable\n",
    "print(four_d)\n",
    "\n",
    "#if wanting to add 0.39 to my_list\n",
    "#my_list.append(0.39)\n",
    "#four_d = my_list\n",
    "#print(four_d)"
   ]
  },
  {
   "cell_type": "code",
   "execution_count": 34,
   "id": "31ed607c-d830-4179-ac6f-0b3cc8988b7b",
   "metadata": {},
   "outputs": [
    {
     "name": "stdout",
     "output_type": "stream",
     "text": [
      "[<class 'int'>, <class 'float'>]\n"
     ]
    }
   ],
   "source": [
    "# .e append the type of 0.39 to the list\n",
    "my_list.append(type(0.39))\n",
    "four_e = my_list\n",
    "print(four_e)"
   ]
  },
  {
   "cell_type": "code",
   "execution_count": 35,
   "id": "f81e2cb6-949e-43ab-bffa-de6eb2a3f26f",
   "metadata": {},
   "outputs": [
    {
     "name": "stdout",
     "output_type": "stream",
     "text": [
      "8.39\n"
     ]
    }
   ],
   "source": [
    "# .f exponentiate to the -10, ie: 4.d^-10,(hint: there might be an artihmetic operator to do so) round it to no \n",
    "#    decimal places, and append to list.\n",
    "my_variable += round(my_variable ** -10) #rounds to 0\n",
    "four_f = my_variable\n",
    "print(four_f)\n",
    "\n",
    "#Or if actually meaning to append to my_list instead of adding to my_variable\n",
    "#my_list.append(round(my_variable ** -10))\n",
    "#four_f = my_list\n",
    "#print(four_f)"
   ]
  },
  {
   "cell_type": "code",
   "execution_count": 36,
   "id": "ddc671fd-ad7f-4d93-98ee-b0044571ed96",
   "metadata": {},
   "outputs": [
    {
     "name": "stdout",
     "output_type": "stream",
     "text": [
      "[<class 'int'>, <class 'float'>, <class 'float'>]\n"
     ]
    }
   ],
   "source": [
    "# .g append the type to the list\n",
    "my_list.append(type(my_variable))\n",
    "four_g = my_list\n",
    "print(four_g)"
   ]
  },
  {
   "cell_type": "code",
   "execution_count": 37,
   "id": "02b11d67-da67-4cf1-bf89-85148adabb7b",
   "metadata": {},
   "outputs": [],
   "source": [
    "#Problem 5: More variable type changes\n",
    "\n",
    "#Continue from where you left off in Problem 4."
   ]
  },
  {
   "cell_type": "code",
   "execution_count": 38,
   "id": "bc425555-86a4-4c5f-972b-2b30a0a10cf4",
   "metadata": {},
   "outputs": [
    {
     "name": "stdout",
     "output_type": "stream",
     "text": [
      "{0: <class 'int'>, 1: <class 'float'>, 2: <class 'float'>}\n"
     ]
    }
   ],
   "source": [
    "#5.a Manually create a dictionary where the values are items in the list from where we left in \n",
    "#    problem 4, and the keys should be their index in the list. Print the dictionary.\n",
    "five_dictionary = {\n",
    "    0 : type(int()),\n",
    "    1 : type(float()),\n",
    "    2 : type(float())\n",
    "}\n",
    "\n",
    "#five_dictionary = {i: element for i, element in enumerate(my_list)}\n",
    "five_a = five_dictionary\n",
    "print(five_a)"
   ]
  },
  {
   "cell_type": "code",
   "execution_count": 39,
   "id": "04990604-25e7-4ebd-a74f-e976125977cb",
   "metadata": {},
   "outputs": [
    {
     "name": "stdout",
     "output_type": "stream",
     "text": [
      "308.39\n"
     ]
    }
   ],
   "source": [
    "# .b Add 300 and coerce it into a string\n",
    "my_variable += 300\n",
    "my_variable = str(my_variable)\n",
    "five_b = my_variable\n",
    "print(five_b)"
   ]
  },
  {
   "cell_type": "code",
   "execution_count": 40,
   "id": "3d6fed12-45a4-4e92-824a-a69635b5d49f",
   "metadata": {},
   "outputs": [
    {
     "name": "stdout",
     "output_type": "stream",
     "text": [
      "{0: <class 'int'>, 1: <class 'float'>, 2: <class 'float'>, 3: <class 'str'>}\n"
     ]
    }
   ],
   "source": [
    "# .c append the type to the list\n",
    "five_dictionary[len(five_dictionary)] = type(five_b)\n",
    "five_c = five_dictionary\n",
    "print(five_c)"
   ]
  },
  {
   "cell_type": "code",
   "execution_count": 41,
   "id": "9d3b3280-5f57-4fb1-ae12-643171c3402a",
   "metadata": {},
   "outputs": [
    {
     "name": "stdout",
     "output_type": "stream",
     "text": [
      "30\n"
     ]
    }
   ],
   "source": [
    "# .d slice the string up to the 2nd element\n",
    "five_d = my_variable = my_variable[:2]\n",
    "print(five_d)"
   ]
  },
  {
   "cell_type": "code",
   "execution_count": 42,
   "id": "95f268e0-513d-4606-ab88-c07c3c214dd2",
   "metadata": {},
   "outputs": [
    {
     "name": "stdout",
     "output_type": "stream",
     "text": [
      "{0: <class 'int'>, 1: <class 'float'>, 2: <class 'float'>, 3: <class 'str'>, 4: <class 'str'>}\n"
     ]
    }
   ],
   "source": [
    "# .e append the type to the list\n",
    "five_dictionary[len(five_dictionary)] = type(five_d)\n",
    "five_e = five_dictionary\n",
    "print(five_e)"
   ]
  },
  {
   "cell_type": "code",
   "execution_count": 43,
   "id": "91b06999-cec6-4a05-9ceb-7a908d01bb94",
   "metadata": {},
   "outputs": [
    {
     "name": "stdout",
     "output_type": "stream",
     "text": [
      "[0, 1, 2, 3, 4]\n"
     ]
    }
   ],
   "source": [
    "# .f use list comprehension to convert this into a new list of integers\n",
    "five_f = [x for x in five_dictionary.keys()] #using keys because they are the index numbers (integers)\n",
    "print(five_f)"
   ]
  },
  {
   "cell_type": "code",
   "execution_count": 44,
   "id": "0eb8326b-b5ee-4d60-80e6-31396640aafd",
   "metadata": {},
   "outputs": [
    {
     "name": "stdout",
     "output_type": "stream",
     "text": [
      "[0, 1, 2, 3, 4, <class 'int'>, <class 'float'>, <class 'float'>, <class 'str'>, <class 'str'>]\n"
     ]
    }
   ],
   "source": [
    "# .g append the type to the list\n",
    "five_g = five_f + [x for x in five_dictionary.values()]\n",
    "print(five_g)"
   ]
  },
  {
   "cell_type": "code",
   "execution_count": 45,
   "id": "951772b9-fd5d-493d-a5b5-878208213c8b",
   "metadata": {},
   "outputs": [
    {
     "name": "stdout",
     "output_type": "stream",
     "text": [
      "[0, 1, 2, 3, 4, <class 'int'>, <class 'float'>, <class 'float'>, <class 'str'>, <class 'str'>, <class 'set'>]\n"
     ]
    }
   ],
   "source": [
    "# .h append the type of three_setA to the list\n",
    "five_h = five_g\n",
    "five_h.append(type(three_setA))\n",
    "print(five_h)"
   ]
  }
 ],
 "metadata": {
  "kernelspec": {
   "display_name": "Python 3 (ipykernel)",
   "language": "python",
   "name": "python3"
  },
  "language_info": {
   "codemirror_mode": {
    "name": "ipython",
    "version": 3
   },
   "file_extension": ".py",
   "mimetype": "text/x-python",
   "name": "python",
   "nbconvert_exporter": "python",
   "pygments_lexer": "ipython3",
   "version": "3.12.5"
  }
 },
 "nbformat": 4,
 "nbformat_minor": 5
}
